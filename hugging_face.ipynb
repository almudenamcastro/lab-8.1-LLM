{
 "cells": [
  {
   "cell_type": "markdown",
   "metadata": {},
   "source": [
    "### Connect to the API"
   ]
  },
  {
   "cell_type": "code",
   "execution_count": 3,
   "metadata": {},
   "outputs": [],
   "source": [
    "from functions import *"
   ]
  },
  {
   "cell_type": "code",
   "execution_count": 4,
   "metadata": {},
   "outputs": [
    {
     "name": "stdout",
     "output_type": "stream",
     "text": [
      "Hi! I'm a chatbot that finds similar songs\n",
      "\n",
      "Finding songs...\n",
      "\n",
      " \"Macarena\" de Los del Río es una canción electrónica con coreografías populares y se convirtió en una canción de baile de culto mundial. Aquí hay algunas canciones con temas similares que se han convertido en éxitos y tienen ritmos pegadizos que son arreglados para el baile o la concurrencia:\n",
      "\n",
      "1. **\"Gangnam Style\" - PSY** - Una explosión global con un vídeo de meme inolvidable que promocionó ritmos animados y bailes.\n",
      "\n",
      "2. **\"Hit the Quan\" - Iyanda** (una regrabación del éxito latino \"Despacito\") - Con su pegadiza melodía y líneas de baile universales, también se ha vuelto viral y popular en clubes y fiestas.\n",
      "\n",
      "3. **\"Waka Waka (This Time for Africa)\" - Shakira, J Balvin & Carlos Vives** - Esta versión en español de la canción de \"We Will Rock You\" de Queen encabezó grandes eventos deportivos y se bailó ampliamente alrededor del mundo.\n",
      "\n",
      "4. **\"Cha Cha Slide\" - C&C Music Factory** - Una canción de baile fácil de seguir que llevó a multitudes a organizar coincidencias rítmicas en bares y eventos.\n",
      "\n",
      "5. **\"Ayo Technology\" - Wale con ODB** - Ofrece un ritmo de trap con un gancho que invita a los oyentes a bailar, y ha ganado mucha popularidad en fiestas y en los juegos de música en línea.\n",
      "\n",
      "6. **\"Tim Tim\" - Oskawara** - Una canción africana con letras cantadas impulsadas por el baile que ha sido tan contagiosa como \"Macarena.\"\n",
      "\n",
      "7. **\"Swiper\" - Hölö y Tommy Trash** - Un tema electrónico y EDM con una aceptable línea de baile, alcanzando popularidad pelas pistas de fitness y entre jóvenes.\n",
      "\n",
      "8. **\"Foot Tapping (Remix)\" - Martin Solveig** - Una versión de cover de la música disco clásica que cuenta con ritmos pegadizos para bailar.\n",
      "\n",
      "9. **\"Sweet Child o' Mine\" - Guns N' Roses cover de Deep Purple** - Aunque no es un género completamente similar, la canción icónica con sus ganchos y coreografía bailable comparte la popularidad de \"Macarena.\"\n",
      "\n",
      "10. **\"Watermelon Sugar\" - Harry Styles** - Es una canción con un ritmo alegre y pegadizo con letra fácil de bailar, admirada en fiestas y fines de semana.\n",
      "\n",
      "Estas canciones varían en género y clase de repertorio, pero comparten el aspecto común de ser partes centrales del baile y apreciadas entre el público general debido a sus melodías adictivas y coreografías accesibles.\n",
      "Hi! I'm a chatbot that finds similar songs\n",
      "\n",
      "Finding songs...\n",
      "\n",
      " \"Chega de Saudade\" de João Gilberto y Antônio Carlos Jobim es una canción icónica del Bossa Nova que captura un sentimiento de nostalgia y melancolía. Para encontrar canciones similares, busca aquellas con un arreglo lento y armónicamente rico, en inglés o portugués, y que evoquen un sentimiento de nostalgia, melancolía o reflexión introspectiva. Aquí hay algunas canciones de diferentes artistas que comparten connotaciones similares:\n",
      "\n",
      "1. **Graça Pilar** - \"Águas de Março\" de Graça Pilar es una pieza melancólica clásica del Bossa Nova, que al igual que \"Chega de Saudade\", profundiza en emociones introspectivas.\n",
      "\n",
      "2. **Caetano Veloso** - \"Noite na Tarde\" de Caetano Veloso tiene una esencia lenta y poética que refleja el sentido nostálgico encontrado en \"Chega de Saudade\".\n",
      "\n",
      "3. **Fernando Lav Chao** (en vietnamita) - \"Tình Nga\" es una canción de ese famoso cantante del Bossa Nova, que transmite emociones similares de tristeza y deseo nostálgico.\n",
      "\n",
      "4. **Astrud Gilberto** - \"The Very Thought of You\" de Astrud Gilberto es una versión en inglés del tema bossa nova clásico que refleja la nostalgia y el dolor del amor, similar al tema principal de \"Chega de Saudade\".\n",
      "\n",
      "5. **Érika Moura** - \"Sozinho\" (Juntos) de Érika Moura homenajea el sentimiento de unión y compartimiento de emociones muy presente en la nostalgia y melancolía bossa nova.\n",
      "\n",
      "6. **Vinícius de Moraes** - \"É Eu Te Amando Falando Português\" es otro clásico del tema nostálgico, manteniendo el ritmo y el sabor lírico de Carlos Jobim.\n",
      "\n",
      "7. **João Gilberto** - Muchas otras canciones de João Gilberto en general, debido al carisma emotivo e instrumental dentro del Bossa Nova, habrían resonado con esos mismos temas de saudade.\n",
      "\n",
      "8. **The Piano Guys** - Aunque son un grupo musical de los Estados Unidos, interpretan varias canciones clásicas en inglés e influyen a la vez con un sentimiento nostálgico, lo cual podría acercarnos al aura evocadora de \"Chega de Saudade\".\n",
      "\n",
      "Muchas de estas canciones pueden ser encontradas en plataformas de música con prueba de sonido o descargas legales para escuchar sus armonías y temáticas melancólicas.\n",
      "Hope you enjoyned the playlist!\n"
     ]
    }
   ],
   "source": [
    "song_finder()"
   ]
  }
 ],
 "metadata": {
  "kernelspec": {
   "display_name": ".venv",
   "language": "python",
   "name": "python3"
  },
  "language_info": {
   "codemirror_mode": {
    "name": "ipython",
    "version": 3
   },
   "file_extension": ".py",
   "mimetype": "text/x-python",
   "name": "python",
   "nbconvert_exporter": "python",
   "pygments_lexer": "ipython3",
   "version": "3.12.4"
  }
 },
 "nbformat": 4,
 "nbformat_minor": 2
}
