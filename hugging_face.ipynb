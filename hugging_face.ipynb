{
 "cells": [
  {
   "cell_type": "markdown",
   "metadata": {},
   "source": [
    "### Connect to the API"
   ]
  },
  {
   "cell_type": "code",
   "execution_count": 8,
   "metadata": {},
   "outputs": [],
   "source": [
    "import os\n",
    "from dotenv import load_dotenv\n",
    "\n",
    "load_dotenv()\n",
    "api_key = os.getenv(\"token1\")\n",
    "\n",
    "# Load environment variables\n"
   ]
  },
  {
   "cell_type": "code",
   "execution_count": 9,
   "metadata": {},
   "outputs": [
    {
     "name": "stdout",
     "output_type": "stream",
     "text": [
      " The capital of France is Paris. It's not only the country's largest city but also a major European cultural and commercial center. The city is known for its art, history, and landmarks such as the Eiffel Tower, Notre-Dame Cathedral, and the Louvre Museum. Paris holds a significant place in world history and continues to be influential in French politics, economy, and fashion, as well as in global affairs."
     ]
    }
   ],
   "source": [
    "# Load model directly\n",
    "from huggingface_hub import InferenceClient\n",
    "\n",
    "client = InferenceClient(api_key = api_key)\n",
    "\n",
    "for message in client.chat_completion(\n",
    "\tmodel=\"microsoft/Phi-3.5-mini-instruct\",\n",
    "\tmessages=[{\"role\": \"user\", \"content\": \"What is the capital of France?\"}],\n",
    "\tmax_tokens=500,\n",
    "\tstream=True,\n",
    "):\n",
    "    print(message.choices[0].delta.content, end=\"\")"
   ]
  }
 ],
 "metadata": {
  "kernelspec": {
   "display_name": ".venv",
   "language": "python",
   "name": "python3"
  },
  "language_info": {
   "codemirror_mode": {
    "name": "ipython",
    "version": 3
   },
   "file_extension": ".py",
   "mimetype": "text/x-python",
   "name": "python",
   "nbconvert_exporter": "python",
   "pygments_lexer": "ipython3",
   "version": "3.12.4"
  }
 },
 "nbformat": 4,
 "nbformat_minor": 2
}
